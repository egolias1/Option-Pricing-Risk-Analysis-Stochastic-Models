{
 "cells": [
  {
   "cell_type": "code",
   "execution_count": null,
   "metadata": {},
   "outputs": [],
   "source": [
    "import requests\n",
    "\n",
    "# Set your Alpha Vantage API key\n",
    "api_key = 'YV7B2T6WNRZSV2GD'\n",
    "\n",
    "# Define the symbol and other parameters\n",
    "symbol = 'AAPL'\n",
    "expiration_date = '2023-06-16'  # Expiration date of the options\n",
    "option_type = 'CALL'  # Option type (CALL or PUT)\n",
    "interval = '1min'  # Time interval for the data (e.g., 1min, 15min, 1day)\n",
    "\n",
    "# Define the API endpoint URL\n",
    "url = f'https://www.alphavantage.co/query?function=OPTION_INTRADAY&symbol={symbol}&interval={interval}&datatype=csv&apikey={api_key}'\n",
    "\n",
    "# Make a GET request to the API\n",
    "response = requests.get(url)\n",
    "\n",
    "# Check if the request was successful\n",
    "if response.status_code == 200:\n",
    "    # Parse the response as a CSV\n",
    "    data = response.content.decode('utf-8').splitlines()\n",
    "\n",
    "    # Process the data\n",
    "    for row in data:\n",
    "        # Split the row into columns\n",
    "        columns = row.split(',')\n",
    "\n",
    "        # Extract the relevant information (e.g., option price, volume, etc.)\n",
    "        option_price = columns[1]\n",
    "        volume = columns[6]\n",
    "        # ... add more columns as needed\n",
    "\n",
    "        # Process the extracted data as per your project requirements\n",
    "        # For example, store it in a database or perform further analysis\n",
    "\n",
    "else:\n",
    "    # Handle the error if the request was not successful\n",
    "    print('Error occurred while fetching data from the API.')\n"
   ]
  },
  {
   "cell_type": "code",
   "execution_count": null,
   "metadata": {},
   "outputs": [],
   "source": []
  }
 ],
 "metadata": {
  "language_info": {
   "name": "python"
  },
  "orig_nbformat": 4
 },
 "nbformat": 4,
 "nbformat_minor": 2
}
