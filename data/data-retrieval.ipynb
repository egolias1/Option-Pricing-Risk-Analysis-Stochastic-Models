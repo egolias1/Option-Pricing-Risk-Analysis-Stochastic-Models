{
 "cells": [
  {
   "cell_type": "code",
   "execution_count": 6,
   "metadata": {},
   "outputs": [
    {
     "name": "stdout",
     "output_type": "stream",
     "text": [
      "['{', '    \"Error Message\": \"This API function (OPTION_INTRADAY) does not exist.\"', '}']\n",
      "{\n"
     ]
    },
    {
     "ename": "IndexError",
     "evalue": "list index out of range",
     "output_type": "error",
     "traceback": [
      "\u001b[0;31m---------------------------------------------------------------------------\u001b[0m",
      "\u001b[0;31mIndexError\u001b[0m                                Traceback (most recent call last)",
      "Cell \u001b[0;32mIn[6], line 32\u001b[0m\n\u001b[1;32m     29\u001b[0m         columns \u001b[39m=\u001b[39m row\u001b[39m.\u001b[39msplit(\u001b[39m'\u001b[39m\u001b[39m,\u001b[39m\u001b[39m'\u001b[39m)\n\u001b[1;32m     31\u001b[0m         \u001b[39m# Extract the relevant information (e.g., option price, volume, etc.)\u001b[39;00m\n\u001b[0;32m---> 32\u001b[0m         option_price \u001b[39m=\u001b[39m columns[\u001b[39m1\u001b[39;49m]\n\u001b[1;32m     33\u001b[0m         volume \u001b[39m=\u001b[39m columns[\u001b[39m6\u001b[39m]\n\u001b[1;32m     34\u001b[0m         \u001b[39m# ... add more columns as needed\u001b[39;00m\n\u001b[1;32m     35\u001b[0m \n\u001b[1;32m     36\u001b[0m         \u001b[39m# Process the extracted data as per your project requirements\u001b[39;00m\n\u001b[0;32m   (...)\u001b[0m\n\u001b[1;32m     39\u001b[0m \u001b[39melse\u001b[39;00m:\n\u001b[1;32m     40\u001b[0m     \u001b[39m# Handle the error if the request was not successful\u001b[39;00m\n",
      "\u001b[0;31mIndexError\u001b[0m: list index out of range"
     ]
    }
   ],
   "source": [
    "import requests\n",
    "\n",
    "# Set your Alpha Vantage API key\n",
    "api_key = 'YV7B2T6WNRZSV2GD'\n",
    "\n",
    "# Define the symbol and other parameters\n",
    "symbol = 'AAPL'\n",
    "expiration_date = '2023-06-16'  # Expiration date of the options\n",
    "option_type = 'CALL'  # Option type (CALL or PUT)\n",
    "interval = '1min'  # Time interval for the data (e.g., 1min, 15min, 1day)\n",
    "\n",
    "# Define the API endpoint URL\n",
    "url = f'https://www.alphavantage.co/query?function=OPTION_INTRADAY&symbol={symbol}&interval={interval}&datatype=csv&apikey={api_key}'\n",
    "\n",
    "# Make a GET request to the API\n",
    "response = requests.get(url)\n",
    "\n",
    "# Check if the request was successful\n",
    "if response.status_code == 200:\n",
    "    # Parse the response as a CSV\n",
    "    data = response.content.decode('utf-8').splitlines()\n",
    "\n",
    "    print(data)\n",
    "\n",
    "    # Process the data\n",
    "    for row in data:\n",
    "        print(row)\n",
    "        # Split the row into columns\n",
    "        columns = row.split(',')\n",
    "\n",
    "        # Extract the relevant information (e.g., option price, volume, etc.)\n",
    "        option_price = columns[1]\n",
    "        volume = columns[6]\n",
    "        # ... add more columns as needed\n",
    "\n",
    "        # Process the extracted data as per your project requirements\n",
    "        # For example, store it in a database or perform further analysis\n",
    "\n",
    "else:\n",
    "    # Handle the error if the request was not successful\n",
    "    print('Error occurred while fetching data from the API.')\n"
   ]
  },
  {
   "cell_type": "code",
   "execution_count": 7,
   "metadata": {},
   "outputs": [
    {
     "name": "stdout",
     "output_type": "stream",
     "text": [
      "Requirement already satisfied: requests in /Users/elliotgolias/Documents/GitHub/Option-Pricing-Risk-Analysis-Stochastic-Models/.venv/lib/python3.11/site-packages (2.31.0)\n",
      "Requirement already satisfied: charset-normalizer<4,>=2 in /Users/elliotgolias/Documents/GitHub/Option-Pricing-Risk-Analysis-Stochastic-Models/.venv/lib/python3.11/site-packages (from requests) (3.1.0)\n",
      "Requirement already satisfied: idna<4,>=2.5 in /Users/elliotgolias/Documents/GitHub/Option-Pricing-Risk-Analysis-Stochastic-Models/.venv/lib/python3.11/site-packages (from requests) (3.4)\n",
      "Requirement already satisfied: urllib3<3,>=1.21.1 in /Users/elliotgolias/Documents/GitHub/Option-Pricing-Risk-Analysis-Stochastic-Models/.venv/lib/python3.11/site-packages (from requests) (2.0.2)\n",
      "Requirement already satisfied: certifi>=2017.4.17 in /Users/elliotgolias/Documents/GitHub/Option-Pricing-Risk-Analysis-Stochastic-Models/.venv/lib/python3.11/site-packages (from requests) (2023.5.7)\n",
      "Note: you may need to restart the kernel to use updated packages.\n"
     ]
    }
   ],
   "source": [
    "%pip install requests"
   ]
  },
  {
   "cell_type": "code",
   "execution_count": null,
   "metadata": {},
   "outputs": [],
   "source": []
  }
 ],
 "metadata": {
  "kernelspec": {
   "display_name": ".venv",
   "language": "python",
   "name": "python3"
  },
  "language_info": {
   "codemirror_mode": {
    "name": "ipython",
    "version": 3
   },
   "file_extension": ".py",
   "mimetype": "text/x-python",
   "name": "python",
   "nbconvert_exporter": "python",
   "pygments_lexer": "ipython3",
   "version": "3.11.3"
  },
  "orig_nbformat": 4
 },
 "nbformat": 4,
 "nbformat_minor": 2
}
